{
 "cells": [
  {
   "cell_type": "code",
   "execution_count": 17,
   "id": "47e4b7ba-3918-4b83-a26c-3204ddfd9e35",
   "metadata": {},
   "outputs": [
    {
     "name": "stdout",
     "output_type": "stream",
     "text": [
      "{'brand': 'bmw', 'model': 'ix', 'year': 1964}\n"
     ]
    }
   ],
   "source": [
    "car_dict={\"brand\":\"bmw\",\"model\":\"ix\",\"year\":1964}\n",
    "print(car_dict)"
   ]
  },
  {
   "cell_type": "code",
   "execution_count": 19,
   "id": "13c0b1a7-84fc-494c-8c95-9a0b688eb022",
   "metadata": {},
   "outputs": [
    {
     "name": "stdout",
     "output_type": "stream",
     "text": [
      "bmw\n"
     ]
    }
   ],
   "source": [
    "print(car_dict[\"brand\"])"
   ]
  },
  {
   "cell_type": "code",
   "execution_count": 21,
   "id": "ea695a31-7a61-4fa6-8e99-37b484bc2b14",
   "metadata": {},
   "outputs": [
    {
     "name": "stdout",
     "output_type": "stream",
     "text": [
      "3\n"
     ]
    }
   ],
   "source": [
    "print(len(car_dict))"
   ]
  },
  {
   "cell_type": "code",
   "execution_count": 23,
   "id": "8df8a152-2f45-4f59-8310-8561abee75df",
   "metadata": {},
   "outputs": [
    {
     "name": "stdout",
     "output_type": "stream",
     "text": [
      "{'Brand': 'BMW', 'model': 'ix', 'year': 2000}\n"
     ]
    }
   ],
   "source": [
    "car_dict={\"Brand\":\"BMW\",\"model\":\"ix\",\"year\":1964,\"year\":2000}\n",
    "print(car_dict)"
   ]
  },
  {
   "cell_type": "code",
   "execution_count": 39,
   "id": "f4aff8d9-d24c-41ff-afa3-6ad8f666ae46",
   "metadata": {},
   "outputs": [
    {
     "name": "stdout",
     "output_type": "stream",
     "text": [
      "ix\n"
     ]
    }
   ],
   "source": [
    "x=car_dict.get(\"model\")\n",
    "print(x)"
   ]
  },
  {
   "cell_type": "code",
   "execution_count": 41,
   "id": "788facb9-e19d-47e8-9c20-49e0400db8b5",
   "metadata": {},
   "outputs": [
    {
     "data": {
      "text/plain": [
       "dict_keys(['Brand', 'model', 'year'])"
      ]
     },
     "execution_count": 41,
     "metadata": {},
     "output_type": "execute_result"
    }
   ],
   "source": [
    "# to change values of dictionary\n",
    "car_dict.keys()"
   ]
  },
  {
   "cell_type": "code",
   "execution_count": 43,
   "id": "60671b69-732d-4642-82ce-6bd362aa9f40",
   "metadata": {},
   "outputs": [
    {
     "data": {
      "text/plain": [
       "{'Brand': 'BMW', 'model': 'ix', 'year': 2000}"
      ]
     },
     "execution_count": 43,
     "metadata": {},
     "output_type": "execute_result"
    }
   ],
   "source": [
    "car_dict"
   ]
  },
  {
   "cell_type": "code",
   "execution_count": 53,
   "id": "155fb096-c7eb-4e9c-b1b3-a9b77b1422f8",
   "metadata": {},
   "outputs": [
    {
     "name": "stdout",
     "output_type": "stream",
     "text": [
      "{'Brand': 'BMW', 'model': 'ix', 'year': 2000, 'color': 'white'}\n"
     ]
    }
   ],
   "source": [
    "#to add new key:value in dictionary\n",
    "car_dict[\"color\"]=\"white\"\n",
    "print(car_dict)"
   ]
  },
  {
   "cell_type": "code",
   "execution_count": 7,
   "id": "0f9de695-8067-419d-ad4e-1f9e4f74b6a3",
   "metadata": {},
   "outputs": [
    {
     "name": "stdout",
     "output_type": "stream",
     "text": [
      "{'name': 'A', 'year': 2023, 'pass': True, 'marks': [50, 60, 70]}\n"
     ]
    }
   ],
   "source": [
    "d3={\"name\":\"A\",\"year\":2023,\"pass\":True,\"marks\":[50,60,70]}\n",
    "print(d3)\n",
    "\n",
    "d3[\"phone_no\"]=94566"
   ]
  },
  {
   "cell_type": "code",
   "execution_count": 13,
   "id": "9bc55b07-4aff-428d-9143-14f1f0654420",
   "metadata": {},
   "outputs": [
    {
     "data": {
      "text/plain": [
       "{'name': 'A',\n",
       " 'year': 2024,\n",
       " 'pass': True,\n",
       " 'marks': [50, 60, 70],\n",
       " 'phone_no': 94566}"
      ]
     },
     "execution_count": 13,
     "metadata": {},
     "output_type": "execute_result"
    }
   ],
   "source": [
    "#update\n",
    "d3.update({\"year\":2024})\n",
    "d3"
   ]
  },
  {
   "cell_type": "code",
   "execution_count": 3,
   "id": "7fc0bc75-50b0-4072-9cab-ab042cd6d6b3",
   "metadata": {},
   "outputs": [
    {
     "data": {
      "text/plain": [
       "{'name': 'A',\n",
       " 'year': 2024,\n",
       " 'pass': True,\n",
       " 'marks': [50, 60, 80],\n",
       " 'phone_no': 94566}"
      ]
     },
     "execution_count": 3,
     "metadata": {},
     "output_type": "execute_result"
    }
   ],
   "source": [
    "#for removing dictionary items\n",
    "#the pop() method removes the items with the specified key name:\n",
    "{\"name\":\"A\",\n",
    " \"year\": 2024,\n",
    " \"pass\": True,\n",
    " \"marks\":[50,60,80],\n",
    " \"phone_no\": 94566}"
   ]
  },
  {
   "cell_type": "code",
   "execution_count": 15,
   "id": "9e652286-b21b-4fc8-91b6-f085031182ba",
   "metadata": {},
   "outputs": [
    {
     "data": {
      "text/plain": [
       "94566"
      ]
     },
     "execution_count": 15,
     "metadata": {},
     "output_type": "execute_result"
    }
   ],
   "source": [
    "d3.pop(\"phone_no\")"
   ]
  },
  {
   "cell_type": "code",
   "execution_count": 17,
   "id": "f1f7cef4-bb1d-4752-ba04-eca1a3ceb57b",
   "metadata": {},
   "outputs": [
    {
     "data": {
      "text/plain": [
       "{'name': 'A', 'year': 2024, 'pass': True, 'marks': [50, 60, 70]}"
      ]
     },
     "execution_count": 17,
     "metadata": {},
     "output_type": "execute_result"
    }
   ],
   "source": [
    "d3"
   ]
  },
  {
   "cell_type": "code",
   "execution_count": 23,
   "id": "b3efb4f2-a987-497f-96bf-b5def8f901ac",
   "metadata": {},
   "outputs": [
    {
     "ename": "KeyError",
     "evalue": "'year'",
     "output_type": "error",
     "traceback": [
      "\u001b[1;31m---------------------------------------------------------------------------\u001b[0m",
      "\u001b[1;31mKeyError\u001b[0m                                  Traceback (most recent call last)",
      "Cell \u001b[1;32mIn[23], line 1\u001b[0m\n\u001b[1;32m----> 1\u001b[0m \u001b[38;5;28;01mdel\u001b[39;00m d3[\u001b[38;5;124m\"\u001b[39m\u001b[38;5;124myear\u001b[39m\u001b[38;5;124m\"\u001b[39m]\n",
      "\u001b[1;31mKeyError\u001b[0m: 'year'"
     ]
    }
   ],
   "source": [
    "del d3[\"year\"]"
   ]
  },
  {
   "cell_type": "code",
   "execution_count": 25,
   "id": "14677abf-9d1f-47b3-ae8d-94c7cfda559e",
   "metadata": {},
   "outputs": [
    {
     "data": {
      "text/plain": [
       "{'name': 'A', 'pass': True, 'marks': [50, 60, 70]}"
      ]
     },
     "execution_count": 25,
     "metadata": {},
     "output_type": "execute_result"
    }
   ],
   "source": [
    "d3"
   ]
  },
  {
   "cell_type": "code",
   "execution_count": 29,
   "id": "38fdcf00-caa8-448a-8109-adf36f7765c5",
   "metadata": {},
   "outputs": [],
   "source": [
    "d3.clear()"
   ]
  },
  {
   "cell_type": "code",
   "execution_count": 31,
   "id": "3f850b7b-0ca3-4327-977a-194e863ef616",
   "metadata": {},
   "outputs": [
    {
     "data": {
      "text/plain": [
       "{}"
      ]
     },
     "execution_count": 31,
     "metadata": {},
     "output_type": "execute_result"
    }
   ],
   "source": [
    "d3"
   ]
  },
  {
   "cell_type": "code",
   "execution_count": null,
   "id": "3dcfb888-948b-413b-837f-44a739702d19",
   "metadata": {},
   "outputs": [],
   "source": [
    "d3={\"name\":\"a\",\"year\":2023,\"pass\":True,\"marks\":[50,60,70]}"
   ]
  },
  {
   "cell_type": "code",
   "execution_count": 41,
   "id": "37a499a2-b3a5-4e0c-8a4e-82380bba3ab7",
   "metadata": {},
   "outputs": [],
   "source": [
    "d4 = d3.copy()"
   ]
  },
  {
   "cell_type": "code",
   "execution_count": 43,
   "id": "80a8c7ce-67fa-4d94-9231-e3244685b3d0",
   "metadata": {},
   "outputs": [
    {
     "data": {
      "text/plain": [
       "{}"
      ]
     },
     "execution_count": 43,
     "metadata": {},
     "output_type": "execute_result"
    }
   ],
   "source": [
    "d4"
   ]
  }
 ],
 "metadata": {
  "kernelspec": {
   "display_name": "Python 3 (ipykernel)",
   "language": "python",
   "name": "python3"
  },
  "language_info": {
   "codemirror_mode": {
    "name": "ipython",
    "version": 3
   },
   "file_extension": ".py",
   "mimetype": "text/x-python",
   "name": "python",
   "nbconvert_exporter": "python",
   "pygments_lexer": "ipython3",
   "version": "3.12.4"
  }
 },
 "nbformat": 4,
 "nbformat_minor": 5
}
