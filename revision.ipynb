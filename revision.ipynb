{
 "cells": [
  {
   "cell_type": "code",
   "execution_count": 5,
   "id": "47d1d00f-6934-4614-88e1-37855c9d8c62",
   "metadata": {},
   "outputs": [
    {
     "name": "stdout",
     "output_type": "stream",
     "text": [
      "i am a good boy\n",
      "and he is also a good boy\n"
     ]
    }
   ],
   "source": [
    "#escape sequence charachter (to add new line)\n",
    "print(\"i am a good boy\\nand he is also a good boy\")"
   ]
  },
  {
   "cell_type": "code",
   "execution_count": 1,
   "id": "ff991e05-262b-4371-a417-7f8a1fea2a6b",
   "metadata": {},
   "outputs": [
    {
     "name": "stdout",
     "output_type": "stream",
     "text": [
      "akki is my name my age is 23\n"
     ]
    }
   ],
   "source": [
    "print (\"akki is my name\",\"my age is 23\")"
   ]
  },
  {
   "cell_type": "code",
   "execution_count": 3,
   "id": "db7c7376-d54d-44ac-b2f7-c7ee08254a76",
   "metadata": {},
   "outputs": [
    {
     "name": "stdout",
     "output_type": "stream",
     "text": [
      "77\n"
     ]
    }
   ],
   "source": [
    "print (35+42)"
   ]
  },
  {
   "cell_type": "code",
   "execution_count": 13,
   "id": "894a7c01-ee96-4901-b824-54506cfc09b4",
   "metadata": {},
   "outputs": [
    {
     "name": "stdout",
     "output_type": "stream",
     "text": [
      "akki\n",
      "23\n",
      "25.99\n"
     ]
    }
   ],
   "source": [
    "name = \"akki\"\n",
    "age = 23\n",
    "price = 25.99\n",
    "print (name)\n",
    "print (age)\n",
    "print (price)"
   ]
  },
  {
   "cell_type": "code",
   "execution_count": 15,
   "id": "6d2f318e-44cf-4c14-830e-ee41603e504f",
   "metadata": {},
   "outputs": [
    {
     "name": "stdout",
     "output_type": "stream",
     "text": [
      "<class 'str'>\n",
      "<class 'int'>\n",
      "<class 'float'>\n"
     ]
    }
   ],
   "source": [
    "print (type(name))\n",
    "print (type(age))\n",
    "print (type(price))"
   ]
  },
  {
   "cell_type": "code",
   "execution_count": 17,
   "id": "7a3cb8c6-5272-45c3-8d2c-1a6f855ce19e",
   "metadata": {},
   "outputs": [
    {
     "name": "stdout",
     "output_type": "stream",
     "text": [
      "<class 'bool'>\n",
      "<class 'NoneType'>\n"
     ]
    }
   ],
   "source": [
    "age = 23\n",
    "old = False\n",
    "a = None\n",
    "print (type(old))\n",
    "print (type(a))"
   ]
  },
  {
   "cell_type": "code",
   "execution_count": 23,
   "id": "5a3f25e3-37d2-4411-aadc-0131eed06599",
   "metadata": {},
   "outputs": [
    {
     "name": "stdout",
     "output_type": "stream",
     "text": [
      "13\n",
      "13\n",
      "-3\n",
      "40\n",
      "0.625\n",
      "5\n"
     ]
    }
   ],
   "source": [
    "#arithmetic operators\n",
    "a = 5\n",
    "b = 8\n",
    "sum = a+b\n",
    "print(sum)\n",
    "print (a+b)\n",
    "print (a-b)\n",
    "print (a*b)\n",
    "print (a/b)\n",
    "print (a%b)"
   ]
  },
  {
   "cell_type": "code",
   "execution_count": 33,
   "id": "3934b3d5-8b1a-474b-b1fd-6fd04c20e3bc",
   "metadata": {},
   "outputs": [
    {
     "name": "stdout",
     "output_type": "stream",
     "text": [
      "False\n",
      "True\n",
      "True\n",
      "True\n",
      "False\n",
      "False\n"
     ]
    }
   ],
   "source": [
    "#relational/comparison operators.\n",
    "a = 50\n",
    "b = 20\n",
    "\n",
    "print(a==b)\n",
    "print(a!=b)\n",
    "print(a>=b)\n",
    "print(a>b)\n",
    "print (a<=b)\n",
    "print (a<b)"
   ]
  },
  {
   "cell_type": "code",
   "execution_count": 39,
   "id": "fd6b7b4d-6488-4bd1-9618-9120c6b7ccd0",
   "metadata": {},
   "outputs": [
    {
     "name": "stdout",
     "output_type": "stream",
     "text": [
      "num: 200\n"
     ]
    }
   ],
   "source": [
    "#assingment operators\n",
    "num = 10\n",
    "num *=num +10\n",
    "print (\"num:\",num)"
   ]
  },
  {
   "cell_type": "code",
   "execution_count": 41,
   "id": "55eeb3b3-129d-4d6c-bc24-bbd88111a118",
   "metadata": {},
   "outputs": [
    {
     "name": "stdout",
     "output_type": "stream",
     "text": [
      "True\n",
      "False\n"
     ]
    }
   ],
   "source": [
    "#logical operators\n",
    "a = 50\n",
    "b = 30\n",
    "print (not False)\n",
    "print (not(a>b))"
   ]
  },
  {
   "cell_type": "code",
   "execution_count": 45,
   "id": "e8245849-da5d-47b1-8fd8-5bf10dcb132c",
   "metadata": {},
   "outputs": [
    {
     "name": "stdout",
     "output_type": "stream",
     "text": [
      "AND operator: False\n",
      "OR operator: True\n"
     ]
    }
   ],
   "source": [
    "#and/or operator\n",
    "val1 = True\n",
    "val2 = False\n",
    "print(\"AND operator:\",val1 and val2)\n",
    "print(\"OR operator:\",val1 or val2)"
   ]
  },
  {
   "cell_type": "code",
   "execution_count": 49,
   "id": "4bc3f9e5-c495-448d-9975-5117ce0ab25b",
   "metadata": {},
   "outputs": [
    {
     "name": "stdin",
     "output_type": "stream",
     "text": [
      "enter your name: akki\n"
     ]
    },
    {
     "name": "stdout",
     "output_type": "stream",
     "text": [
      "welcome akki\n"
     ]
    }
   ],
   "source": [
    "input(\"enter your name:\")\n",
    "print (\"welcome\",name)"
   ]
  },
  {
   "cell_type": "code",
   "execution_count": 51,
   "id": "3dd99821-7437-45f8-8454-57b646bb6fde",
   "metadata": {},
   "outputs": [
    {
     "name": "stdin",
     "output_type": "stream",
     "text": [
      "enter name: akki\n",
      "enter age: 24\n",
      "enter marks: 94\n"
     ]
    },
    {
     "name": "stdout",
     "output_type": "stream",
     "text": [
      "welcome akki\n",
      "age= 24\n",
      "marks= 94.0\n"
     ]
    }
   ],
   "source": [
    "name = input(\"enter name:\")\n",
    "age = int(input(\"enter age:\"))\n",
    "marks = float(input(\"enter marks:\"))\n",
    "\n",
    "print(\"welcome\",name)\n",
    "print(\"age=\",age)\n",
    "print(\"marks=\",marks)"
   ]
  },
  {
   "cell_type": "code",
   "execution_count": 7,
   "id": "efd041fd-79b2-47e3-8298-00a5b8549a35",
   "metadata": {},
   "outputs": [
    {
     "name": "stdout",
     "output_type": "stream",
     "text": [
      "2\n",
      "4\n",
      "aafttt\n"
     ]
    }
   ],
   "source": [
    "#concatenation\n",
    "str1 = \"aa\"\n",
    "len1 = len(str1)\n",
    "print(len1)\n",
    "str2 = \"fttt\"\n",
    "len2 = len(str2)\n",
    "print(len2)\n",
    "print(str1+str2)"
   ]
  },
  {
   "cell_type": "code",
   "execution_count": 9,
   "id": "c84b5f83-3dfa-4cce-a512-989237078791",
   "metadata": {},
   "outputs": [
    {
     "name": "stdout",
     "output_type": "stream",
     "text": [
      "l\n"
     ]
    }
   ],
   "source": [
    "#indexing 0 1 2 3 4 5 6 7 8 9\n",
    "str = \"hello world\"\n",
    "print(str[2])"
   ]
  },
  {
   "cell_type": "code",
   "execution_count": 17,
   "id": "636c43ad-b467-4ad7-8aca-78a1b871d36b",
   "metadata": {
    "scrolled": true
   },
   "outputs": [
    {
     "name": "stdout",
     "output_type": "stream",
     "text": [
      "ell\n",
      "orl\n"
     ]
    }
   ],
   "source": [
    "#slicing\n",
    "str = \"hello world\"\n",
    "print(str[1:4])\n",
    "\n",
    "#negative index -5 -4 -3 -2 -1\n",
    "str = \"hello world\"\n",
    "print(str[-4:-1])"
   ]
  },
  {
   "cell_type": "code",
   "execution_count": 21,
   "id": "c0beee92-6b19-4db4-b6d6-6db22f3abff4",
   "metadata": {},
   "outputs": [
    {
     "name": "stdout",
     "output_type": "stream",
     "text": [
      "True\n"
     ]
    }
   ],
   "source": [
    "str = \"hello world\"\n",
    "print(str.endswith(\"rld\")"
   ]
  },
  {
   "cell_type": "code",
   "execution_count": 23,
   "id": "d120027d-2014-4215-8285-f055570a670b",
   "metadata": {},
   "outputs": [
    {
     "name": "stdout",
     "output_type": "stream",
     "text": [
      "Hello world\n"
     ]
    }
   ],
   "source": [
    "str = \"hello world\"\n",
    "str = str.capitalize()\n",
    "print(str)"
   ]
  },
  {
   "cell_type": "code",
   "execution_count": 27,
   "id": "02483495-65f5-4f6a-bc36-8cae418199e4",
   "metadata": {},
   "outputs": [
    {
     "name": "stdout",
     "output_type": "stream",
     "text": [
      "hello akki\n"
     ]
    }
   ],
   "source": [
    "str = \"hello world\"\n",
    "print(str.replace(\"world\",\"akki\"))"
   ]
  },
  {
   "cell_type": "code",
   "execution_count": 29,
   "id": "dc4e9d98-b808-4915-ac41-5ed060c0cc98",
   "metadata": {},
   "outputs": [
    {
     "name": "stdout",
     "output_type": "stream",
     "text": [
      "4\n"
     ]
    }
   ],
   "source": [
    "str = \"hello world\"\n",
    "print(str.find(\"o\"))"
   ]
  },
  {
   "cell_type": "code",
   "execution_count": 31,
   "id": "62ef269c-79d6-49ea-9c29-542ecdb6bc6f",
   "metadata": {},
   "outputs": [
    {
     "name": "stdout",
     "output_type": "stream",
     "text": [
      "2\n"
     ]
    }
   ],
   "source": [
    "str = \"hello world\"\n",
    "print(str.count(\"o\"))"
   ]
  },
  {
   "cell_type": "code",
   "execution_count": 33,
   "id": "43a3ecde-7213-493d-b209-cd5f51da4d60",
   "metadata": {},
   "outputs": [
    {
     "name": "stdin",
     "output_type": "stream",
     "text": [
      "enter your name: akki\n"
     ]
    },
    {
     "name": "stdout",
     "output_type": "stream",
     "text": [
      "length of your name is 4\n"
     ]
    }
   ],
   "source": [
    "name = input(\"enter your name:\")\n",
    "print(\"length of your name is\",len(name))"
   ]
  },
  {
   "cell_type": "code",
   "execution_count": 47,
   "id": "9ac0ce50-afd3-400f-8699-035157bc1776",
   "metadata": {},
   "outputs": [
    {
     "name": "stdout",
     "output_type": "stream",
     "text": [
      "not eligible\n"
     ]
    }
   ],
   "source": [
    "#if-elif-else (syntax)\n",
    "#if = if the statement is true then it gives the output\n",
    "age = 15\n",
    "if(age>=18):\n",
    "    print(\"can vote\")\n",
    "elif(age==17):\n",
    "    print(\"no\")\n",
    "else:\n",
    "    print(\"not eligible\")\n"
   ]
  },
  {
   "cell_type": "code",
   "execution_count": 49,
   "id": "8e300124-4046-4835-ab00-3ce8fa58c578",
   "metadata": {},
   "outputs": [
    {
     "name": "stdout",
     "output_type": "stream",
     "text": [
      "can drive\n"
     ]
    }
   ],
   "source": [
    "#nesting (usind another if statment in if statment)\n",
    "age = 30\n",
    "\n",
    "if(age>=18):\n",
    "    if(age>=80):\n",
    "        print(\"cannot drive\")\n",
    "    else:\n",
    "        print(\"can drive\")\n",
    "else:\n",
    "    print(\"can't drive\")"
   ]
  },
  {
   "cell_type": "code",
   "execution_count": 1,
   "id": "4b873567-a6f4-412d-80d0-fdf974278e9c",
   "metadata": {},
   "outputs": [
    {
     "name": "stdout",
     "output_type": "stream",
     "text": [
      "[22, 45, 65, 78, 53]\n"
     ]
    }
   ],
   "source": [
    "#list & tupples\n",
    "marks = [22,45,65,78,53]\n",
    "print(marks)"
   ]
  },
  {
   "cell_type": "code",
   "execution_count": 3,
   "id": "91cd974e-6a31-4a79-917f-cba43978c766",
   "metadata": {},
   "outputs": [
    {
     "name": "stdout",
     "output_type": "stream",
     "text": [
      "[2, 1, 3, 4]\n"
     ]
    }
   ],
   "source": [
    "#append (adds one element at the end)\n",
    "list = [2,1,3]\n",
    "list.append(4)\n",
    "print(list)"
   ]
  },
  {
   "cell_type": "code",
   "execution_count": 5,
   "id": "46c25cbe-eae1-4876-b86c-d7276bb6c723",
   "metadata": {},
   "outputs": [
    {
     "name": "stdout",
     "output_type": "stream",
     "text": [
      "[1, 2, 3]\n"
     ]
    }
   ],
   "source": [
    "#sort() (sorts in ascendiing order)\n",
    "list = [2,1,3]\n",
    "list.sort()\n",
    "print(list)"
   ]
  },
  {
   "cell_type": "code",
   "execution_count": 7,
   "id": "f37a7964-ef41-426a-aa20-8de9ed753b31",
   "metadata": {},
   "outputs": [
    {
     "name": "stdout",
     "output_type": "stream",
     "text": [
      "[3, 2, 1]\n"
     ]
    }
   ],
   "source": [
    "#sort(reverse=True) lis in descending order\n",
    "list = [2,1,3]\n",
    "list.sort(reverse=True)\n",
    "print(list)"
   ]
  },
  {
   "cell_type": "code",
   "execution_count": 9,
   "id": "3b6e776e-688e-4b59-8b96-fd8535d349ab",
   "metadata": {},
   "outputs": [
    {
     "name": "stdout",
     "output_type": "stream",
     "text": [
      "[3, 1, 2]\n"
     ]
    }
   ],
   "source": [
    "#reverse() reverse list\n",
    "list = [2,1,3]\n",
    "list.reverse()\n",
    "print(list)"
   ]
  },
  {
   "cell_type": "code",
   "execution_count": 11,
   "id": "7bcacefa-e347-4252-b8b6-385cba136550",
   "metadata": {},
   "outputs": [
    {
     "name": "stdout",
     "output_type": "stream",
     "text": [
      "[2, 5, 1, 3]\n"
     ]
    }
   ],
   "source": [
    "#insert(index,element)(to insert element at index)\n",
    "list = [2,1,3]\n",
    "list.insert(1,5)\n",
    "print(list)\n"
   ]
  },
  {
   "cell_type": "code",
   "execution_count": 17,
   "id": "9cf2df38-9dee-4424-9a9b-2445769c6ced",
   "metadata": {},
   "outputs": [
    {
     "name": "stdout",
     "output_type": "stream",
     "text": [
      "[2, 3, 1]\n"
     ]
    }
   ],
   "source": [
    "#remove(1) removes first occurence of element\n",
    "list = [2,1,3,1]\n",
    "list.remove(1)\n",
    "print(list)\n"
   ]
  },
  {
   "cell_type": "code",
   "execution_count": 19,
   "id": "ea684aca-bfb5-42a9-858f-0540d276cd2a",
   "metadata": {},
   "outputs": [
    {
     "name": "stdout",
     "output_type": "stream",
     "text": [
      "[1, 3]\n"
     ]
    }
   ],
   "source": [
    "#pop(index) removes element at index\n",
    "list = [2,1,3]\n",
    "list.pop(0)\n",
    "print(list)"
   ]
  },
  {
   "cell_type": "code",
   "execution_count": 23,
   "id": "e6d1accc-5ca8-4ff8-beb1-f52d5c00b8cd",
   "metadata": {},
   "outputs": [
    {
     "name": "stdout",
     "output_type": "stream",
     "text": [
      "1\n",
      "1\n"
     ]
    }
   ],
   "source": [
    "#tuples\n",
    "tup = (1,2,1,3)\n",
    "print(tup[0])\n",
    "print(tup[2])"
   ]
  },
  {
   "cell_type": "code",
   "execution_count": 25,
   "id": "0ac9e2f2-12ce-4647-82cf-cdd7ea3e63c2",
   "metadata": {},
   "outputs": [
    {
     "name": "stdout",
     "output_type": "stream",
     "text": [
      "(1,)\n"
     ]
    }
   ],
   "source": [
    "tup = (1,)\n",
    "print(tup)"
   ]
  },
  {
   "cell_type": "code",
   "execution_count": 33,
   "id": "d60104dd-91f4-4b00-8971-a365cb5b275e",
   "metadata": {},
   "outputs": [
    {
     "name": "stdout",
     "output_type": "stream",
     "text": [
      "(2, 1)\n"
     ]
    }
   ],
   "source": [
    "#slicing in tupple\n",
    "tup = (1,2,1,3)\n",
    "print(tup[1:3])"
   ]
  },
  {
   "cell_type": "code",
   "execution_count": 31,
   "id": "858e65cc-54fb-4382-b106-7f27c9fcbf22",
   "metadata": {},
   "outputs": [
    {
     "name": "stdout",
     "output_type": "stream",
     "text": [
      "1\n"
     ]
    }
   ],
   "source": [
    "#index in tupple\n",
    "tup = (1,2,1,3)\n",
    "print(tup.index(2))"
   ]
  },
  {
   "cell_type": "code",
   "execution_count": 37,
   "id": "9a4d90e3-2361-4ae8-91f7-93f84cf09d2d",
   "metadata": {},
   "outputs": [
    {
     "name": "stdout",
     "output_type": "stream",
     "text": [
      "2\n"
     ]
    }
   ],
   "source": [
    "#count in tupple\n",
    "tup = (1,2,1,3)\n",
    "print(tup.count(1))"
   ]
  },
  {
   "cell_type": "code",
   "execution_count": 41,
   "id": "e9bb91b4-e3cb-4d8e-acff-a4fb77df8f3c",
   "metadata": {},
   "outputs": [
    {
     "name": "stdin",
     "output_type": "stream",
     "text": [
      "enter 1st movie: deadpool\n",
      "enter 2nd movie: venom\n",
      "enter 3rd movie: spiderman\n"
     ]
    },
    {
     "name": "stdout",
     "output_type": "stream",
     "text": [
      "['deadpool', 'venom', 'spiderman']\n"
     ]
    }
   ],
   "source": [
    "movies =[]\n",
    "mov1 = input(\"enter 1st movie:\")\n",
    "mov2 = input(\"enter 2nd movie:\")\n",
    "mov3 = input(\"enter 3rd movie:\")\n",
    "\n",
    "movies.append(mov1)\n",
    "movies.append(mov2)\n",
    "movies.append(mov3)\n",
    "print(movies)"
   ]
  },
  {
   "cell_type": "code",
   "execution_count": 49,
   "id": "1b97a797-f005-4b02-b95c-84f01159b5e9",
   "metadata": {},
   "outputs": [
    {
     "name": "stdout",
     "output_type": "stream",
     "text": [
      "palindrome\n"
     ]
    }
   ],
   "source": [
    "#palindrome (things which are same at starting and end)\n",
    "list1 = [1,2,1]\n",
    "list2 = [1,2,3]\n",
    "copy_list1 = list1.copy()\n",
    "copy_list1.reverse()\n",
    "\n",
    "if(copy_list1 == list1):\n",
    "    print(\"palindrome\")\n",
    "else:\n",
    "    print(\"not palindrome\")"
   ]
  },
  {
   "cell_type": "code",
   "execution_count": 53,
   "id": "6b4c7b93-3dcc-4ed2-bb03-19fb00e15352",
   "metadata": {},
   "outputs": [
    {
     "name": "stdout",
     "output_type": "stream",
     "text": [
      "{'key': 'value', 'name': 'akki', 'learning': 'coding'}\n"
     ]
    }
   ],
   "source": [
    "# Dictionary & Sets\n",
    "info = {\n",
    "    \"key\":\"value\",\n",
    "    \"name\":\"akki\",\n",
    "    \"learning\":\"coding\"\n",
    "}\n",
    "print(info)"
   ]
  },
  {
   "cell_type": "code",
   "execution_count": 9,
   "id": "374640ed-5773-413c-a0de-71841b3ab8d3",
   "metadata": {},
   "outputs": [
    {
     "name": "stdout",
     "output_type": "stream",
     "text": [
      "{'name': 'akki', 'subjects': {'physics': 97, 'maths': 82, 'science': 99}}\n",
      "{'physics': 97, 'maths': 82, 'science': 99}\n"
     ]
    }
   ],
   "source": [
    "#nested dictionary \n",
    "student = {\n",
    "    \"name\":\"akki\",\n",
    "    \"subjects\":{\n",
    "        \"physics\":97,\n",
    "        \"maths\":82,\n",
    "        \"science\":99\n",
    "    }\n",
    "}\n",
    "print(student)\n",
    "print(student[\"subjects\"])"
   ]
  },
  {
   "cell_type": "code",
   "execution_count": 29,
   "id": "df8c42a1-f56c-4b69-a6a4-236fcd444296",
   "metadata": {},
   "outputs": [
    {
     "name": "stdout",
     "output_type": "stream",
     "text": [
      "['name', 'subjects']\n",
      "2\n",
      "['akki', {'phy': 97, 'chem': 98, 'maths': 87}]\n",
      "dict_items([('name', 'akki'), ('subjects', {'phy': 97, 'chem': 98, 'maths': 87})])\n",
      "akki\n"
     ]
    }
   ],
   "source": [
    "#dict keys\n",
    "student = {\n",
    "    \"name\":\"akki\",\n",
    "    \"subjects\":{\n",
    "        \"phy\":97,\n",
    "        \"chem\":98,\n",
    "        \"maths\":87\n",
    "    }\n",
    "}\n",
    "print(list(student.keys()))\n",
    "print(len(list(student.keys())))\n",
    "print(list(student.values()))\n",
    "print(student.items())\n",
    "print(student.get(\"name\"))\n"
   ]
  },
  {
   "cell_type": "code",
   "execution_count": 37,
   "id": "171b4fb3-dab7-45bb-b009-e6a2ab8b408e",
   "metadata": {},
   "outputs": [
    {
     "name": "stdout",
     "output_type": "stream",
     "text": [
      "{'name': 'akki', 'subjects': {'phy': 97, 'chem': 98, 'maths': 87}, 'city': 'delhi'}\n"
     ]
    }
   ],
   "source": [
    "#update key\n",
    "student = {\n",
    "    \"name\":\"akki\",\n",
    "    \"subjects\":{\n",
    "        \"phy\":97,\n",
    "        \"chem\":98,\n",
    "        \"maths\":87\n",
    "    }\n",
    "}\n",
    "new_dict = {\"city\":\"delhi\"}\n",
    "student.update(new_dict)\n",
    "print(student)"
   ]
  },
  {
   "cell_type": "code",
   "execution_count": 39,
   "id": "a8eeb940-066f-4f65-8447-701ef368a7b0",
   "metadata": {},
   "outputs": [
    {
     "name": "stdout",
     "output_type": "stream",
     "text": [
      "{1, 2, 3, 4}\n",
      "<class 'set'>\n"
     ]
    }
   ],
   "source": [
    "# Sets (it is a collection od un ordered items) and its immutable\n",
    "set = {1,2,3,4}\n",
    "print(set)\n",
    "print(type(set))"
   ]
  },
  {
   "cell_type": "code",
   "execution_count": 75,
   "id": "3234950e-ec75-41ae-b9f1-96b74718af1f",
   "metadata": {},
   "outputs": [
    {
     "name": "stdout",
     "output_type": "stream",
     "text": [
      "0\n",
      "set()\n"
     ]
    }
   ],
   "source": [
    "#set methods (add(),remove(),clear(),pop()).\n",
    "collection = {4,5,6}\n",
    "collection.add(1)\n",
    "collection.add(2)\n",
    "collection.remove(1)\n",
    "collection.clear()\n",
    "print(len(collection))\n",
    "print(collection)"
   ]
  },
  {
   "cell_type": "code",
   "execution_count": 83,
   "id": "5918ba46-f9bb-4adc-b36f-d30a54544153",
   "metadata": {},
   "outputs": [
    {
     "name": "stdout",
     "output_type": "stream",
     "text": [
      "akki\n",
      "hello\n",
      "thankyou\n",
      "welcome\n"
     ]
    }
   ],
   "source": [
    "collection = {\"hello\",\"akki\",\"welcome\",\"thankyou\"}\n",
    "print(collection.pop())\n",
    "print(collection.pop())\n",
    "print(collection.pop())\n",
    "print(collection.pop())"
   ]
  },
  {
   "cell_type": "code",
   "execution_count": 85,
   "id": "00ad2ade-184b-454b-853f-cb96433243f1",
   "metadata": {},
   "outputs": [
    {
     "name": "stdout",
     "output_type": "stream",
     "text": [
      "{1, 2, 3, 4}\n"
     ]
    }
   ],
   "source": [
    "#union sets (combines sets)\n",
    "set1 = {1,2,3}\n",
    "set2 = {2,3,4}\n",
    "print(set1.union(set2))"
   ]
  },
  {
   "cell_type": "code",
   "execution_count": 87,
   "id": "abd112f3-6d90-4b87-8b1c-db084e6eefd9",
   "metadata": {},
   "outputs": [
    {
     "name": "stdout",
     "output_type": "stream",
     "text": [
      "{2, 3}\n"
     ]
    }
   ],
   "source": [
    "#intersection\n",
    "set1 = {1,2,3}\n",
    "set2 = {2,3,4}\n",
    "print(set1.intersection(set2))"
   ]
  },
  {
   "cell_type": "code",
   "execution_count": 89,
   "id": "f57ba2ed-d4ac-4b70-9dbf-70b1f66cec97",
   "metadata": {},
   "outputs": [
    {
     "name": "stdout",
     "output_type": "stream",
     "text": [
      "{'cat': 'a small animal', 'table': ['a piece od furniture', 'list of facts & figures']}\n"
     ]
    }
   ],
   "source": [
    "dictionary = {\n",
    "    \"cat\":\"a small animal\",\n",
    "    \"table\":[\"a piece od furniture\",\"list of facts & figures\"]\n",
    "}\n",
    "print(dictionary)"
   ]
  },
  {
   "cell_type": "code",
   "execution_count": 93,
   "id": "752eacdd-27b6-4dcd-94f9-f9fb96e95ba1",
   "metadata": {},
   "outputs": [
    {
     "name": "stdout",
     "output_type": "stream",
     "text": [
      "5\n"
     ]
    }
   ],
   "source": [
    "subjects = {\n",
    "    \"python\",\"java\",\"c++\",\"python\",\"javascript\",\"java\",\n",
    "    \"python\",\"java\",\"c++\",\"c\"\n",
    "}\n",
    "print(len(subjects))"
   ]
  },
  {
   "cell_type": "code",
   "execution_count": 97,
   "id": "2a952563-ba0f-4b3a-9443-3d9f874b1814",
   "metadata": {},
   "outputs": [
    {
     "name": "stdin",
     "output_type": "stream",
     "text": [
      "enter phy: 98\n",
      "enter maths: 97\n",
      "enter chem: 06\n"
     ]
    },
    {
     "name": "stdout",
     "output_type": "stream",
     "text": [
      "{'phy': 98, 'maths': 98, 'chem': 98}\n"
     ]
    }
   ],
   "source": [
    "marks = {}\n",
    "x = int(input(\"enter phy:\"))\n",
    "marks.update({\"phy\":x})\n",
    "\n",
    "y = int(input(\"enter maths:\"))\n",
    "marks.update({\"maths\":x})\n",
    "              \n",
    "z = int(input(\"enter chem:\"))\n",
    "marks.update({\"chem\":x})    \n",
    "\n",
    "print(marks)"
   ]
  },
  {
   "cell_type": "code",
   "execution_count": 103,
   "id": "32ee623a-b309-4c83-b40c-c3507a4ae1f1",
   "metadata": {},
   "outputs": [
    {
     "name": "stdout",
     "output_type": "stream",
     "text": [
      "{9, '9.0'}\n"
     ]
    }
   ],
   "source": [
    "#to print both values in sets\n",
    "values = {9,\"9.0\"}\n",
    "print(values)"
   ]
  },
  {
   "cell_type": "code",
   "execution_count": null,
   "id": "9f675345-ae62-41d0-93b6-887047f328f4",
   "metadata": {},
   "outputs": [],
   "source": [
    "#LOOPS (loops are used to repeat instructions)\n",
    "#while loops\n",
    "i = 1\n",
    "while i <= 5:\n",
    "    print(\"hello\")\n",
    "    i+=1"
   ]
  }
 ],
 "metadata": {
  "kernelspec": {
   "display_name": "Python 3 (ipykernel)",
   "language": "python",
   "name": "python3"
  },
  "language_info": {
   "codemirror_mode": {
    "name": "ipython",
    "version": 3
   },
   "file_extension": ".py",
   "mimetype": "text/x-python",
   "name": "python",
   "nbconvert_exporter": "python",
   "pygments_lexer": "ipython3",
   "version": "3.12.4"
  }
 },
 "nbformat": 4,
 "nbformat_minor": 5
}
