{
 "cells": [
  {
   "cell_type": "code",
   "execution_count": 5,
   "id": "f9dd5c85-1410-4732-be47-375704b8810a",
   "metadata": {},
   "outputs": [
    {
     "name": "stdin",
     "output_type": "stream",
     "text": [
      "enter any number 12345678\n"
     ]
    },
    {
     "name": "stdout",
     "output_type": "stream",
     "text": [
      "reverse of given number is: 87654321\n"
     ]
    }
   ],
   "source": [
    "num=int(input(\"enter any number\"))\n",
    "rev=0\n",
    "while(num>0):\n",
    "  rev=(rev*10)+num%10\n",
    "  num=num//10\n",
    "print(\"reverse of given number is:\",rev)"
   ]
  },
  {
   "cell_type": "code",
   "execution_count": 9,
   "id": "1b21d4e8-cd57-4c32-ad60-ad75d3cd0584",
   "metadata": {},
   "outputs": [
    {
     "name": "stdin",
     "output_type": "stream",
     "text": [
      "enter number 153\n"
     ]
    },
    {
     "name": "stdout",
     "output_type": "stream",
     "text": [
      "number is armstrong\n"
     ]
    }
   ],
   "source": [
    "n=int(input(\"enter number\"))\n",
    "x=n\n",
    "sum=0\n",
    "while(n>0):\n",
    "  sum=sum+(n%10)*(n%10)*(n%10)\n",
    "  n=n//10\n",
    "if x==sum:\n",
    "    print(\"number is armstrong\")\n",
    "else:\n",
    "    print(\"number is not armstrong\")"
   ]
  }
 ],
 "metadata": {
  "kernelspec": {
   "display_name": "Python 3 (ipykernel)",
   "language": "python",
   "name": "python3"
  },
  "language_info": {
   "codemirror_mode": {
    "name": "ipython",
    "version": 3
   },
   "file_extension": ".py",
   "mimetype": "text/x-python",
   "name": "python",
   "nbconvert_exporter": "python",
   "pygments_lexer": "ipython3",
   "version": "3.12.4"
  }
 },
 "nbformat": 4,
 "nbformat_minor": 5
}
