{
 "cells": [
  {
   "cell_type": "code",
   "execution_count": 3,
   "id": "b76f3f56-12f9-4ed0-af55-135ed24b087c",
   "metadata": {},
   "outputs": [
    {
     "name": "stdout",
     "output_type": "stream",
     "text": [
      "{'x'}\n"
     ]
    }
   ],
   "source": [
    "set1={\"x\",\"y\",\"z\"}\n",
    "set2={6,7,8,\"x\"}\n",
    "set3=set1.intersection(set2)\n",
    "print(set3)"
   ]
  },
  {
   "cell_type": "code",
   "execution_count": 5,
   "id": "73ebf38a-b9b8-4c7b-afe0-d60b393a80ab",
   "metadata": {},
   "outputs": [
    {
     "name": "stdout",
     "output_type": "stream",
     "text": [
      "{8, 6, 7}\n"
     ]
    }
   ],
   "source": [
    "set1={\"x\",\"y\",\"z\"}\n",
    "set2={6,7,8,\"x\"}\n",
    "set3=set2.difference(set1)\n",
    "print(set3)"
   ]
  },
  {
   "cell_type": "code",
   "execution_count": 9,
   "id": "2be384f0-2227-4af7-9b53-8bb6d72bb159",
   "metadata": {},
   "outputs": [
    {
     "name": "stdout",
     "output_type": "stream",
     "text": [
      "{'y', 'z'}\n"
     ]
    }
   ],
   "source": [
    "set1={\"x\",\"y\",\"z\"}\n",
    "set2={6,7,8,\"x\"}\n",
    "set3=set1.difference(set2)\n",
    "print(set3)"
   ]
  },
  {
   "cell_type": "code",
   "execution_count": null,
   "id": "2bfdb524-204e-420f-a6db-6df43a25cdf3",
   "metadata": {},
   "outputs": [],
   "source": []
  }
 ],
 "metadata": {
  "kernelspec": {
   "display_name": "Python 3 (ipykernel)",
   "language": "python",
   "name": "python3"
  },
  "language_info": {
   "codemirror_mode": {
    "name": "ipython",
    "version": 3
   },
   "file_extension": ".py",
   "mimetype": "text/x-python",
   "name": "python",
   "nbconvert_exporter": "python",
   "pygments_lexer": "ipython3",
   "version": "3.12.4"
  }
 },
 "nbformat": 4,
 "nbformat_minor": 5
}
